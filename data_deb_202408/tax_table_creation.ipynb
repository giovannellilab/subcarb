{
 "cells": [
  {
   "cell_type": "code",
   "execution_count": 1,
   "metadata": {},
   "outputs": [],
   "source": [
    "import pandas as pd\n",
    "\n",
    "df = pd.read_csv(\"Carbon_EC_numbers - Pathways_overlap.csv\")\n",
    "\n",
    "# Group by the \"EC\" column and concatenate unique elements of \"pathway\" and \"name\" columns\n",
    "grouped_df = df.groupby('EC').agg({\n",
    "    'pathway': lambda x: ' | '.join(sorted(set(x))),\n",
    "    'name': lambda x: ' | '.join(sorted(set(x)))\n",
    "}).reset_index()\n",
    "\n",
    "grouped_df.to_csv(\"tax.csv\", index=False)\n"
   ]
  },
  {
   "cell_type": "code",
   "execution_count": null,
   "metadata": {},
   "outputs": [],
   "source": []
  }
 ],
 "metadata": {
  "kernelspec": {
   "display_name": "Python 3 (ipykernel)",
   "language": "python",
   "name": "python3"
  },
  "language_info": {
   "codemirror_mode": {
    "name": "ipython",
    "version": 3
   },
   "file_extension": ".py",
   "mimetype": "text/x-python",
   "name": "python",
   "nbconvert_exporter": "python",
   "pygments_lexer": "ipython3",
   "version": "3.7.12"
  }
 },
 "nbformat": 4,
 "nbformat_minor": 2
}
